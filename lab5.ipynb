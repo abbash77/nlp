{
 "cells": [
  {
   "cell_type": "code",
   "execution_count": 22,
   "metadata": {},
   "outputs": [
    {
     "name": "stdout",
     "output_type": "stream",
     "text": [
      "in theb ust ling city amidst towering skyscraper sand bustling streets life pulsate swithen erg y peopler ush toa n d froth e i r footstep sech o inga gainst the concrete neon sign s flicker casting akal e ido scope of colors upon the urban landscape ast he city never sleep s\n",
      "['in', 'the', 'bustling', 'city', 'amidst', 'towering', 'skyscrapers', 'and', 'bustling', 'streets', 'life', 'pulsates', 'with', 'energy', 'people', 'rush', 'to', 'and', 'fro', 'their', 'footsteps', 'echoing', 'against', 'the', 'concrete', 'neon', 'signs', 'flicker', 'casting', 'a', 'kaleidoscope', 'of', 'colors', 'upon', 'the', 'urban', 'landscape', 'as', 'the', 'city', 'never', 'sleeps']\n",
      "['in', 'theb', 'ust', 'ling', 'city', 'amidst', 'towering', 'skyscraper', 'sand', 'bustling', 'streets', 'life', 'pulsate', 'swithen', 'erg', 'y', 'peopler', 'ush', 'toa', 'n', 'd', 'froth', 'e', 'i', 'r', 'footstep', 'sech', 'o', 'inga', 'gainst', 'the', 'concrete', 'neon', 'sign', 's', 'flicker', 'casting', 'akal', 'e', 'ido', 'scope', 'of', 'colors', 'upon', 'the', 'urban', 'landscape', 'ast', 'he', 'city', 'never', 'sleep', 's']\n",
      "Accuracy: 0.5\n"
     ]
    }
   ],
   "source": [
    "# from nltk.corpus import words\n",
    "\n",
    "# string = \"iamastudentfromjamia\"\n",
    "# tokens = []\n",
    "# lowercaseCorpus = [x.lower() for x in words.words()]\n",
    "# i = 0\n",
    "# while i < len(string):\n",
    "#     maxWord = \"\"\n",
    "#     for j in range(i, len(string)):\n",
    "#         tempWord = string[i:j+1]\n",
    "#         if tempWord in lowercaseCorpus and len(tempWord) > len(maxWord):\n",
    "#             maxWord = tempWord\n",
    "#     i = i+len(maxWord)\n",
    "#     tokens.append(maxWord)\n",
    "\n",
    "# print(tokens)\n",
    "from nltk.corpus import words as tokens\n",
    "#write a random paragraph\n",
    "paragraph = \"In the bustling city, amidst towering skyscrapers and bustling streets, life pulsates with energy. People rush to and fro, their footsteps echoing against the concrete. Neon signs flicker, casting a kaleidoscope of colors upon the urban landscape, as the city never sleeps.\"\n",
    "\n",
    "#remove punctuations from the paragraph\n",
    "punctuations = '''!()-[]{};:'\"\\,<>./?@#$%^&*_~'''\n",
    "for x in paragraph.lower():\n",
    "    if x in punctuations:\n",
    "        paragraph = paragraph.replace(x, \"\")\n",
    "\n",
    "paragraph = paragraph.lower()\n",
    "savedParagraph=paragraph\n",
    "#remove all the spaces from the paragraph\n",
    "paragraph = paragraph.replace(\" \", \"\")\n",
    "\n",
    "words = []\n",
    "lowerTokensSet = set([x.lower() for x in tokens.words()])\n",
    "i = 0\n",
    "while i < len(paragraph):\n",
    "    mWord = \"\"\n",
    "    for j in range(i, len(paragraph)):\n",
    "        temp = paragraph[i:j+1]\n",
    "        temp = temp.lower()\n",
    "        if temp in lowerTokensSet and len(temp) > len(mWord):\n",
    "            mWord = temp\n",
    "    i = i+len(mWord)\n",
    "    words.append(mWord)\n",
    "\n",
    "newParagraph = \" \".join(words)\n",
    "print(newParagraph)\n",
    "\n",
    "\n",
    "original_words = savedParagraph.split()  \n",
    "new_words = newParagraph.split()    \n",
    "print(original_words)\n",
    "print(new_words)\n",
    "original_word_set = set(original_words)\n",
    "common_words = original_word_set.intersection(set(new_words))\n",
    "\n",
    "accuracy = len(common_words) / len(original_word_set)\n",
    "print(\"Accuracy:\", accuracy)"
   ]
  },
  {
   "cell_type": "code",
   "execution_count": null,
   "metadata": {},
   "outputs": [],
   "source": []
  }
 ],
 "metadata": {
  "kernelspec": {
   "display_name": "BM_1424",
   "language": "python",
   "name": "bm_1424"
  },
  "language_info": {
   "codemirror_mode": {
    "name": "ipython",
    "version": 3
   },
   "file_extension": ".py",
   "mimetype": "text/x-python",
   "name": "python",
   "nbconvert_exporter": "python",
   "pygments_lexer": "ipython3",
   "version": "3.9.7"
  }
 },
 "nbformat": 4,
 "nbformat_minor": 2
}
